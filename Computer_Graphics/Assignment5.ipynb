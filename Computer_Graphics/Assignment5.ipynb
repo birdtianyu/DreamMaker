{
 "cells": [
  {
   "cell_type": "code",
   "execution_count": 11,
   "metadata": {},
   "outputs": [],
   "source": [
    "import math\n",
    "import pandas as pd\n",
    "import glob\n",
    "import numpy as np\n",
    "\n",
    "def radiance(alpha:\"nm\"):\n",
    "    new_alpha = alpha * 10**(-9) # nm -> m\n",
    "    c = 2.99792458 * 10**8\n",
    "    h = 6.6260755 * 10**(-34)\n",
    "    k = 1.380658 * 10**(-23)\n",
    "    T = 6504\n",
    "    return (c**2*2*h)/(new_alpha**5*(math.exp((h*c)/(k*T*new_alpha))-1))"
   ]
  },
  {
   "cell_type": "markdown",
   "metadata": {},
   "source": [
    "###  CIEXYZ1931 coordinate & sRGB"
   ]
  },
  {
   "cell_type": "code",
   "execution_count": 33,
   "metadata": {
    "scrolled": true
   },
   "outputs": [
    {
     "name": "stdout",
     "output_type": "stream",
     "text": [
      "15plot 0.4513247116745829 0.21269522038714805 [251   0 157] 74645.0\n",
      "1plot 0.5203426369980633 0.3151198584053089 [255  86 104] 51362.0\n",
      "33plot 0.3100577333732556 0.31621554688517584 [156 151 159] 29833.0\n",
      "41plot 0.31886316834305994 0.3274481683306163 [160 153 154] 29630.0\n",
      "46plot 0.31439422831893704 0.32150183832632395 [158 152 157] 29622.0\n",
      "51plot 0.1733826268402902 0.11263917533382907 [ 51  76 223] 74681.0\n",
      "58plot 0.19850816428404275 0.18510948417473133 [ 64 118 207] 57554.0\n",
      "64plot 0.2908593619936975 0.2138485529717013 [163 105 187] 35588.0\n",
      "6plot 0.4874920452532383 0.27620311417666105 [255  67 129] 51220.0\n",
      "72plot 0.22905540022082344 0.389364552886566 [  0 192 157] 78598.0\n",
      "74plot 0.26256092901860373 0.42682114628899664 [ 56 197 138] 56654.0\n",
      "84plot 0.4873152708159332 0.4259264814878882 [241 156  50] 52022.0\n",
      "92plot 0.44708788076439904 0.4629435186569031 [217 177  44] 52049.0\n"
     ]
    }
   ],
   "source": [
    "Color_Matching_Functions = pd.read_csv(\"./XYZ_CIE_2.dat\", sep = \"\\t\", header=None, index_col=0)\n",
    "\n",
    "M = np.array([[3.2406, -1.5372, -0.4986],\n",
    "            [-0.9689, 1.8758, 0.0415],\n",
    "            [0.0557, -0.2040, 1.0570]])\n",
    "\n",
    "for file in glob.glob(r\".\\Pigmentdata\\*\"):\n",
    "    filename = file.split('\\\\')[-1]\n",
    "    df = pd.read_csv(file, sep = \"\\t\", header=None)\n",
    "    start_value = df[1][0]\n",
    "    finish_value = df[1][255]\n",
    "    Xcount = 0\n",
    "    Ycount = 0\n",
    "    Zcount = 0\n",
    "    for j in range(380,400):\n",
    "        Xcount += Color_Matching_Functions[1][j]*start_value*radiance(j)\n",
    "        Ycount += Color_Matching_Functions[2][j]*start_value*radiance(j)\n",
    "        Zcount += Color_Matching_Functions[3][j]*start_value*radiance(j)\n",
    "        \n",
    "    for i in range(df.shape[0]):\n",
    "        key = int(round(df[0][i]))\n",
    "        Xcount += Color_Matching_Functions[1][key]*df[1][i]*radiance(key)\n",
    "        Ycount += Color_Matching_Functions[2][key]*df[1][i]*radiance(key)\n",
    "        Zcount += Color_Matching_Functions[3][key]*df[1][i]*radiance(key)\n",
    "        \n",
    "    for n in range(700, 781):\n",
    "        Xcount += Color_Matching_Functions[1][j]*finish_value*radiance(j)\n",
    "        Ycount += Color_Matching_Functions[2][j]*finish_value*radiance(j)\n",
    "        Zcount += Color_Matching_Functions[3][j]*finish_value*radiance(j)\n",
    "        \n",
    "    X = Xcount/(Xcount + Ycount + Zcount)\n",
    "    Y = Ycount/(Xcount + Ycount + Zcount)\n",
    "    Z = Zcount/(Xcount + Ycount + Zcount)\n",
    "    # print(filename, X, Y)\n",
    "    \n",
    "    # sRGB\n",
    "    XYZ = np.array([X, Y, Z]).reshape(-1, 1)\n",
    "    RGB = M @ XYZ\n",
    "    for clo in range(3):\n",
    "        if RGB[clo][0]>1:\n",
    "            RGB[clo][0] = 1\n",
    "            \n",
    "        if RGB[clo][0]<0:\n",
    "            RGB[clo][0]=0\n",
    "            \n",
    "    # print(RGB.flatten())\n",
    "    \n",
    "    sRGB = np.zeros((3,1))\n",
    "    Product = 1\n",
    "    for clo0 in range(3):\n",
    "        if RGB[clo0][0] < 0.0031308:\n",
    "            sRGB[clo0][0] = 12.92*RGB[clo0][0]\n",
    "        else:\n",
    "            sRGB[clo0][0] = RGB[clo0][0]**(1.0/2.4)*1.055-0.055\n",
    "    \n",
    "    # print(sRGB.flatten())\n",
    "    dis  = 0\n",
    "    for clo3 in range(3):\n",
    "        sRGB[clo3][0] = round(255*sRGB[clo3][0])\n",
    "        dis += (255 - sRGB[clo3][0])**2\n",
    "    \n",
    "    print(filename, X, Y, sRGB.flatten().astype(int),dis)"
   ]
  },
  {
   "cell_type": "code",
   "execution_count": null,
   "metadata": {},
   "outputs": [],
   "source": []
  }
 ],
 "metadata": {
  "kernelspec": {
   "display_name": "Python 3",
   "language": "python",
   "name": "python3"
  },
  "language_info": {
   "codemirror_mode": {
    "name": "ipython",
    "version": 3
   },
   "file_extension": ".py",
   "mimetype": "text/x-python",
   "name": "python",
   "nbconvert_exporter": "python",
   "pygments_lexer": "ipython3",
   "version": "3.7.5"
  }
 },
 "nbformat": 4,
 "nbformat_minor": 2
}
